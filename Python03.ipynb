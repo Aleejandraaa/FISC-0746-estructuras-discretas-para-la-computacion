{
  "nbformat": 4,
  "nbformat_minor": 0,
  "metadata": {
    "colab": {
      "name": "Python03.ipynb",
      "version": "0.3.2",
      "provenance": []
    },
    "kernelspec": {
      "name": "python3",
      "display_name": "Python 3"
    }
  },
  "cells": [
    {
      "metadata": {
        "id": "_BP-Nl0NQcf8",
        "colab_type": "code",
        "colab": {}
      },
      "cell_type": "code",
      "source": [
        ""
      ],
      "execution_count": 0,
      "outputs": []
    },
    {
      "metadata": {
        "id": "0y95oCtAQjhY",
        "colab_type": "text"
      },
      "cell_type": "markdown",
      "source": [
        "Estructura Discretas para la Computación\n",
        "Alejandra Caballero 8-943-1867\n"
      ]
    },
    {
      "metadata": {
        "id": "OcAun1_vQqdn",
        "colab_type": "code",
        "outputId": "e2f5a92a-c999-48fd-cea7-271052f186eb",
        "colab": {
          "base_uri": "https://localhost:8080/",
          "height": 34
        }
      },
      "cell_type": "code",
      "source": [
        "x=12\n",
        "if x >10:\n",
        "  print (\"Hello\")\n",
        "else:\n",
        "  print(\"world\")"
      ],
      "execution_count": 0,
      "outputs": [
        {
          "output_type": "stream",
          "text": [
            "Hello\n"
          ],
          "name": "stdout"
        }
      ]
    },
    {
      "metadata": {
        "id": "SxBwgUIWSPe3",
        "colab_type": "code",
        "outputId": "21223fd7-3b90-407c-f6b5-c5f9b2f54a04",
        "colab": {
          "base_uri": "https://localhost:8080/",
          "height": 34
        }
      },
      "cell_type": "code",
      "source": [
        "x = 10\n",
        "y = 12\n",
        "if x > y:\n",
        "    print(\"x>y\")\n",
        "elif x < y:\n",
        "      print (\"x<y\") \n",
        "else:\n",
        "       print (\"x=y\")"
      ],
      "execution_count": 0,
      "outputs": [
        {
          "output_type": "stream",
          "text": [
            "x<y\n"
          ],
          "name": "stdout"
        }
      ]
    },
    {
      "metadata": {
        "id": "QOvu93ugVCeZ",
        "colab_type": "code",
        "outputId": "19a108b7-420b-4193-a519-2dc3975dfc36",
        "colab": {
          "base_uri": "https://localhost:8080/",
          "height": 51
        }
      },
      "cell_type": "code",
      "source": [
        "x=11\n",
        "y=12\n",
        "if x>y:\n",
        "  print (\"x>y\")\n",
        "elif x<y:\n",
        "  print(\"x<y\")\n",
        "  if x==10:\n",
        "    print(\"x=10\")\n",
        "  else:\n",
        "    print (\"invalid\")\n",
        "else:\n",
        "    print (\"x=y\")"
      ],
      "execution_count": 0,
      "outputs": [
        {
          "output_type": "stream",
          "text": [
            "x<y\n",
            "invalid\n"
          ],
          "name": "stdout"
        }
      ]
    },
    {
      "metadata": {
        "id": "GvKDRERjVwev",
        "colab_type": "code",
        "outputId": "1e5f80e8-b7d2-4fbf-b66e-fc3e827920f9",
        "colab": {
          "base_uri": "https://localhost:8080/",
          "height": 85
        }
      },
      "cell_type": "code",
      "source": [
        "for i in range (1,5):\n",
        "  print (i+32)"
      ],
      "execution_count": 0,
      "outputs": [
        {
          "output_type": "stream",
          "text": [
            "33\n",
            "34\n",
            "35\n",
            "36\n"
          ],
          "name": "stdout"
        }
      ]
    },
    {
      "metadata": {
        "id": "m1hiPbptV7Sw",
        "colab_type": "code",
        "outputId": "58906b11-6a09-4f21-d0ce-d7136a7d60ca",
        "colab": {
          "base_uri": "https://localhost:8080/",
          "height": 170
        }
      },
      "cell_type": "code",
      "source": [
        "list_of_lists = [[1, 2, 3], [4, 5, 6], [7, 8, 9]]\n",
        "for list1 in reversed(list_of_lists):\n",
        "  for x in list1:\n",
        "          print(x )"
      ],
      "execution_count": 0,
      "outputs": [
        {
          "output_type": "stream",
          "text": [
            "7\n",
            "8\n",
            "9\n",
            "4\n",
            "5\n",
            "6\n",
            "1\n",
            "2\n",
            "3\n"
          ],
          "name": "stdout"
        }
      ]
    },
    {
      "metadata": {
        "id": "PSjBh_kgYImQ",
        "colab_type": "code",
        "outputId": "4975f800-4163-4940-e829-8277b05c7adb",
        "colab": {
          "base_uri": "https://localhost:8080/",
          "height": 68
        }
      },
      "cell_type": "code",
      "source": [
        "i=1\n",
        "while i<3:\n",
        "  print (i**2)\n",
        "  i=i+1\n",
        "print (\"Bye vvv\")"
      ],
      "execution_count": 0,
      "outputs": [
        {
          "output_type": "stream",
          "text": [
            "1\n",
            "4\n",
            "Bye vvv\n"
          ],
          "name": "stdout"
        }
      ]
    },
    {
      "metadata": {
        "id": "Hrzu7ibqY1Iv",
        "colab_type": "code",
        "outputId": "eb582d79-e518-49b0-bbfa-8ffd2f55b3c7",
        "colab": {
          "base_uri": "https://localhost:8080/",
          "height": 153
        }
      },
      "cell_type": "code",
      "source": [
        "for i in range (100):\n",
        "    print (i)\n",
        "    if i>=7:\n",
        "      break\n",
        "  "
      ],
      "execution_count": 0,
      "outputs": [
        {
          "output_type": "stream",
          "text": [
            "0\n",
            "1\n",
            "2\n",
            "3\n",
            "4\n",
            "5\n",
            "6\n",
            "7\n"
          ],
          "name": "stdout"
        }
      ]
    },
    {
      "metadata": {
        "id": "_kBGYpC_aeaS",
        "colab_type": "code",
        "outputId": "cd5f56d8-b812-4c80-c910-5f384cf3ad1b",
        "colab": {
          "base_uri": "https://localhost:8080/",
          "height": 187
        }
      },
      "cell_type": "code",
      "source": [
        "for i in range (10):\n",
        "    if i > 4:\n",
        "      print (\"The End\")\n",
        "      continue\n",
        "    elif i<7:\n",
        "       print (i)"
      ],
      "execution_count": 0,
      "outputs": [
        {
          "output_type": "stream",
          "text": [
            "0\n",
            "1\n",
            "2\n",
            "3\n",
            "4\n",
            "The End\n",
            "The End\n",
            "The End\n",
            "The End\n",
            "The End\n"
          ],
          "name": "stdout"
        }
      ]
    },
    {
      "metadata": {
        "id": "ZRWfQsKjagb4",
        "colab_type": "code",
        "outputId": "a8160e9a-fb52-4088-9a1f-929bf63d607e",
        "colab": {
          "base_uri": "https://localhost:8080/",
          "height": 34
        }
      },
      "cell_type": "code",
      "source": [
        "res = []\n",
        "for i in range (1,11):\n",
        "    x= 27 *i\n",
        "    res.append(x)\n",
        "print (res)\n"
      ],
      "execution_count": 0,
      "outputs": [
        {
          "output_type": "stream",
          "text": [
            "[27, 54, 81, 108, 135, 162, 189, 216, 243, 270]\n"
          ],
          "name": "stdout"
        }
      ]
    },
    {
      "metadata": {
        "id": "N7ROZ5MBb0Fx",
        "colab_type": "code",
        "outputId": "0cb78357-d6d7-46ab-e72b-3dc0216fac42",
        "colab": {
          "base_uri": "https://localhost:8080/",
          "height": 34
        }
      },
      "cell_type": "code",
      "source": [
        "[27* x for x in range (1,10) if x<=10]"
      ],
      "execution_count": 0,
      "outputs": [
        {
          "output_type": "execute_result",
          "data": {
            "text/plain": [
              "[27, 54, 81, 108, 135, 162, 189, 216, 243]"
            ]
          },
          "metadata": {
            "tags": []
          },
          "execution_count": 48
        }
      ]
    },
    {
      "metadata": {
        "id": "w1LkL8_PcACA",
        "colab_type": "code",
        "outputId": "0e4c83a6-7828-4842-c051-c025d6ed9b53",
        "colab": {
          "base_uri": "https://localhost:8080/",
          "height": 51
        }
      },
      "cell_type": "code",
      "source": [
        "#establecer el numero que divide\n",
        "dividir = 5\n",
        "#dos listas \n",
        "bajos=[]; altos =[]\n",
        "#dividir las listas\n",
        "for i in range (10):\n",
        "    if (i< dividir):\n",
        "        bajos.append(i)\n",
        "    else:\n",
        "        altos.append(i)\n",
        "print (\"bajos:\", bajos)\n",
        "print (\"altos:.\", altos)"
      ],
      "execution_count": 0,
      "outputs": [
        {
          "output_type": "stream",
          "text": [
            "bajos: [0, 1, 2, 3, 4]\n",
            "altos:. [5, 6, 7, 8, 9]\n"
          ],
          "name": "stdout"
        }
      ]
    }
  ]
}